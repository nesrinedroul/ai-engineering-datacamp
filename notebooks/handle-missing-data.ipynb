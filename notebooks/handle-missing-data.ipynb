{
 "cells": [
  {
   "cell_type": "markdown",
   "id": "7646dede",
   "metadata": {},
   "source": [
    "To handle missing data and non-numeric values in scikit-learn, you typically use preprocessing techniques:\n",
    "\n",
    "- **Missing Data**:  \n",
    "    Use `sklearn.impute.SimpleImputer` to fill missing values (e.g., with mean, median, or a constant).\n",
    "\n",
    "    ```python\n",
    "    from sklearn.impute import SimpleImputer\n",
    "\n",
    "    imputer = SimpleImputer(strategy='mean')  # or 'median', 'most_frequent', 'constant'\n",
    "    X_imputed = imputer.fit_transform(X)\n",
    "    ```\n",
    "\n",
    "- **Non-Numeric Values (Categorical Data)**:  \n",
    "    Use `sklearn.preprocessing.OneHotEncoder` or `OrdinalEncoder` to convert categorical features to numeric.\n",
    "\n",
    "    ```python\n",
    "    from sklearn.preprocessing import OneHotEncoder\n",
    "\n",
    "    encoder = OneHotEncoder(handle_unknown='ignore')\n",
    "    X_encoded = encoder.fit_transform(X_categorical)\n",
    "    ```\n",
    "\n",
    "- **Pipeline Example**:  \n",
    "    Combine these steps using `ColumnTransformer` and `Pipeline` for datasets with mixed types.\n",
    "\n",
    "    ```python\n",
    "    from sklearn.compose import ColumnTransformer\n",
    "    from sklearn.pipeline import Pipeline\n",
    "\n",
    "    numeric_features = [...]\n",
    "    categorical_features = [...]\n",
    "\n",
    "    numeric_transformer = SimpleImputer(strategy='mean')\n",
    "    categorical_transformer = Pipeline([\n",
    "            ('imputer', SimpleImputer(strategy='most_frequent')),\n",
    "            ('encoder', OneHotEncoder(handle_unknown='ignore'))\n",
    "    ])\n",
    "\n",
    "    preprocessor = ColumnTransformer(\n",
    "            transformers=[\n",
    "                    ('num', numeric_transformer, numeric_features),\n",
    "                    ('cat', categorical_transformer, categorical_features)\n",
    "            ])\n",
    "\n",
    "    X_processed = preprocessor.fit_transform(X)\n",
    "    ```\n",
    "\n",
    "**Tip:** Always inspect your data with `pandas` before preprocessing."
   ]
  }
 ],
 "metadata": {
  "language_info": {
   "name": "python"
  }
 },
 "nbformat": 4,
 "nbformat_minor": 5
}
