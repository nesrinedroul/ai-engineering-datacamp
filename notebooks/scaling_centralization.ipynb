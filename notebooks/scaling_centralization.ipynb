{
 "cells": [
  {
   "cell_type": "code",
   "execution_count": null,
   "id": "898f34f5",
   "metadata": {
    "vscode": {
     "languageId": "plaintext"
    }
   },
   "outputs": [],
   "source": [
    "from sklearn.preprocessing import StandardScaler\n",
    "\n",
    "# Assuming your data is in a variable called X (as a NumPy array or pandas DataFrame)\n",
    "scaler = StandardScaler()\n",
    "X_standardized = scaler.fit_transform(X)"
   ]
  },
  {
   "cell_type": "code",
   "execution_count": null,
   "id": "e00671d8",
   "metadata": {},
   "outputs": [],
   "source": [
    "from sklearn.pipeline import Pipeline\n",
    "\n",
    "# Create a pipeline with StandardScaler\n",
    "pipeline = Pipeline([\n",
    "    ('scaler', scaler)\n",
    "])\n",
    "\n",
    "# Fit the pipeline to the data\n",
    "pipeline.fit(X)\n",
    "\n",
    "# Transform the data\n",
    "X_standardized = pipeline.transform(X)\n",
    "\n",
    "print(\"Original Mean:\", np.mean(X, axis=0))\n",
    "print(\"Original Std:\", np.std(X, axis=0))\n",
    "print(\"Standardized Mean:\", np.mean(X_standardized, axis=0))\n",
    "print(\"Standardized Std:\", np.std(X_standardized, axis=0))"
   ]
  }
 ],
 "metadata": {
  "language_info": {
   "name": "python"
  }
 },
 "nbformat": 4,
 "nbformat_minor": 5
}
